{
 "cells": [
  {
   "cell_type": "markdown",
   "id": "ac4d7509",
   "metadata": {},
   "source": [
    "The goal is to make a signup bot using beautiful soup"
   ]
  },
  {
   "cell_type": "code",
   "execution_count": null,
   "id": "e05f7fbc",
   "metadata": {},
   "outputs": [],
   "source": [
    "#packages\n",
    "\n",
    "import names\n",
    "import random as rand\n",
    "from selenium import webdriver\n",
    "import time"
   ]
  },
  {
   "cell_type": "code",
   "execution_count": null,
   "id": "efb3c066",
   "metadata": {},
   "outputs": [],
   "source": [
    "#Step 1 Create a way to generate Email addresses\n",
    "#using iteration to use the same name but a different number what about using one of several names and a random number\n",
    "for i in range(1,10000):\n",
    "    print(\"JohnsonDavidson\"+str(i))"
   ]
  },
  {
   "cell_type": "code",
   "execution_count": null,
   "id": "c2e9da64",
   "metadata": {},
   "outputs": [],
   "source": [
    "#randomly generates a first and a last name. Remember this is a generator\n",
    "print(names.get_first_name())\n",
    "print(names.get_last_name())"
   ]
  },
  {
   "cell_type": "code",
   "execution_count": null,
   "id": "ca1196df",
   "metadata": {},
   "outputs": [],
   "source": [
    "#create a function that returns a first name first chcaracter a period (.) a last name at gmail.com or one of several domains.\n",
    "\n",
    "def new_rand_email():\n",
    "    print(str(names.get_first_name[0]+\".\"+str(names.get_last_name()+\"@gmail.com\")))"
   ]
  },
  {
   "cell_type": "code",
   "execution_count": null,
   "id": "d1d10886",
   "metadata": {},
   "outputs": [],
   "source": [
    "#create a list of domains that you will chose so that all the email addresses arent on gmail or yahoo\n",
    "\n",
    "domains = [\"@gmail.com\", \n",
    "           \"@yahoo.com\", \n",
    "           \"@outlook.com\", \n",
    "           \"@icloud.com\",\n",
    "           \"@aol.com\"]\n",
    "\n",
    "#code for generating a new email address.\n",
    "\n",
    "#THERE IS A LESSON HERE. WHEN USING A GENERATOR IT WILL GENERATE FOR ONE ITERATION. IF YOU WERE TO DEFINE THAT GENERATOR TO A\n",
    "#VARIABLE THEN THAT VARIABLE IS NOT GOING TO GENERATE SOMETHING NEW EVERY TIME.\n",
    "\n",
    "print(str(names.get_first_name()[0])+\n",
    "      \".\"+str(names.get_last_name()+\n",
    "              str(rand.randint(200,10000)) +\n",
    "              str(rand.choice(domains)) ))"
   ]
  },
  {
   "cell_type": "code",
   "execution_count": null,
   "id": "8cdebc08",
   "metadata": {},
   "outputs": [],
   "source": [
    "domains = [\"@gmail.com\", \n",
    "           \"@yahoo.com\", \n",
    "           \"@outlook.com\", \n",
    "           \"@icloud.com\",\n",
    "           \"@aol.com\"]\n",
    "\n",
    "seperators = [\".\",\"-\",\"_\"]"
   ]
  },
  {
   "cell_type": "code",
   "execution_count": null,
   "id": "b071fcc3",
   "metadata": {},
   "outputs": [],
   "source": [
    "#Creating different configurations of email addresses\n",
    "\n",
    "#First, sep, last, domain\n",
    "def new_email_config1():\n",
    "    first = names.get_first_name()\n",
    "    last = names.get_last_name()\n",
    "    return str(first)+ str(rand.choice(seperators)) +str(last)+str(rand.randint(1,1000000))+str(rand.choice(domains))\n",
    "\n",
    "#First first char, sep , last, domain\n",
    "def new_email_config2():\n",
    "    first = names.get_first_name()[0]\n",
    "    last = names.get_last_name()\n",
    "    return str(first)+ str(rand.choice(seperators)) +str(last)+str(rand.randint(1,1000000))+str(rand.choice(domains))\n",
    "\n",
    "#First, last first char, sep, domain\n",
    "def new_email_config3():\n",
    "    first = names.get_first_name()\n",
    "    last = names.get_last_name()[0]\n",
    "    return str(last)+ str(rand.choice(seperators)) +str(first)+str(rand.randint(1,1000000))+str(rand.choice(domains))\n",
    "\n",
    "#First, underscore, last\n",
    "def new_email_config4():\n",
    "    first = names.get_first_name()\n",
    "    last = names.get_last_name()\n",
    "    return str(first)+ \"_\" +str(last)+str(rand.randint(1,1000000))+str(rand.choice(domains))\n",
    "\n",
    "def new_email_config5():\n",
    "    first = names.get_first_name()\n",
    "    last = names.get_last_name()\n",
    "    return \"_\"+str(first[:4])+ str(rand.choice(seperators)) +str(last)+str(rand.randint(1,1000000))+str(rand.choice(domains))\n",
    "\n",
    "#This is the key to randomization, returning the result of one of the already defined functions\n",
    "def rand_config():\n",
    "    choice1 = new_email_config1()\n",
    "    choice2 = new_email_config2()\n",
    "    choice3 = new_email_config3()\n",
    "    choice4 = new_email_config4()\n",
    "    choice5 = new_email_config5()\n",
    "    return rand.choice([choice1, choice2, choice3, choice4, choice5])\n",
    "\n",
    "#The problem with this method is that or doesnt satisfy randomization\n",
    "    #return str(choice1) or str(choice2) or str(choice3) or str(choice4) or str(choice5)\n",
    "    \n",
    "#The problem with this way of execution is probably that the functions themselves are defined but need to be incuded in the main function\n",
    "    #return str(new_emailconfig1) or str(new_email_config2) or str(new_email_config3) or str(new_email_config) or str(new_email_config5)"
   ]
  },
  {
   "cell_type": "code",
   "execution_count": null,
   "id": "09fbe0e0",
   "metadata": {},
   "outputs": [],
   "source": [
    "rand_config()"
   ]
  },
  {
   "cell_type": "markdown",
   "id": "fb2c5d08",
   "metadata": {},
   "source": [
    "Now that we have a function that generates random email addressesses we need navigate to a webpage, find the submission field\n",
    "to populate the submission field and submi the email address"
   ]
  },
  {
   "cell_type": "code",
   "execution_count": null,
   "id": "e7421fb3",
   "metadata": {},
   "outputs": [],
   "source": [
    "#Final script for automated submission. Success by finding elements by xpaths because those are the XML portions of the \n",
    "#webpage tha. Remember Beautiful Soup is only for retreiving data  from a parsed HTML/XML page. Drivers are what you use to\n",
    "#actually automate\n",
    "\n",
    "browser = webdriver.Chrome(\"C:\\\\Users\\\\Erski\\\\1 Python\\\\chromedriver.exe\") #always must point to the driver\n",
    "url = 'https://link.outsideonline.com/join/6du/multisignup'\n",
    "browser.get(url)\n",
    "\n",
    "time.sleep(3)\n",
    "input_email = browser.find_element_by_class_name('input_em')\n",
    "input_email.send_keys(rand_config())\n",
    "\n",
    "submit_button = browser.find_element_by_xpath('//*[@id=\"content\"]/form/input[3]')\n",
    "time.sleep(3)\n",
    "submit_button.click()'\n",
    "\n",
    "return_button = browser.find_element_by_xpath('//*[@id=\"content\"]/ul/li[1]/a')\n",
    "time.sleep(1)\n",
    "return_button.click()"
   ]
  },
  {
   "cell_type": "code",
   "execution_count": null,
   "id": "e582eb44",
   "metadata": {},
   "outputs": [],
   "source": []
  }
 ],
 "metadata": {
  "kernelspec": {
   "display_name": "Python 3",
   "language": "python",
   "name": "python3"
  },
  "language_info": {
   "codemirror_mode": {
    "name": "ipython",
    "version": 3
   },
   "file_extension": ".py",
   "mimetype": "text/x-python",
   "name": "python",
   "nbconvert_exporter": "python",
   "pygments_lexer": "ipython3",
   "version": "3.8.8"
  }
 },
 "nbformat": 4,
 "nbformat_minor": 5
}
